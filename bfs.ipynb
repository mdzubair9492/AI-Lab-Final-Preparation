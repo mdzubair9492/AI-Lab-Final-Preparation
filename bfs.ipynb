{
 "cells": [
  {
   "cell_type": "code",
   "execution_count": 1,
   "id": "e9696ba6",
   "metadata": {},
   "outputs": [
    {
     "name": "stdout",
     "output_type": "stream",
     "text": [
      "{0, 1, 2, 3, 4}\n"
     ]
    }
   ],
   "source": [
    "import collections\n",
    "def bfs(graph,root):\n",
    "    visited = set()\n",
    "    queue = collections.deque([root])\n",
    "\n",
    "    while queue:\n",
    "        vertex = queue.popleft()\n",
    "        visited.add(vertex)\n",
    "        for i in graph:\n",
    "            if i not in visited:\n",
    "                queue.append(i)\n",
    "    print(visited)\n",
    "\n",
    "\n",
    "\n",
    "\n",
    "\n",
    "if __name__ == '__main__':\n",
    "    graph = {\n",
    "        0:[1,2,3],\n",
    "        1:[0,2],\n",
    "        2:[0,1],\n",
    "        3:[0],\n",
    "        4:[2]\n",
    "    }\n",
    "    bfs(graph,0)"
   ]
  },
  {
   "cell_type": "code",
   "execution_count": null,
   "id": "d34de7a0",
   "metadata": {},
   "outputs": [],
   "source": []
  }
 ],
 "metadata": {
  "kernelspec": {
   "display_name": "Python 3",
   "language": "python",
   "name": "python3"
  },
  "language_info": {
   "codemirror_mode": {
    "name": "ipython",
    "version": 3
   },
   "file_extension": ".py",
   "mimetype": "text/x-python",
   "name": "python",
   "nbconvert_exporter": "python",
   "pygments_lexer": "ipython3",
   "version": "3.12.10"
  }
 },
 "nbformat": 4,
 "nbformat_minor": 5
}
